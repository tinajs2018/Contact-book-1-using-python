{
 "cells": [
  {
   "cell_type": "code",
   "execution_count": 1,
   "metadata": {},
   "outputs": [],
   "source": [
    "\n",
    "names = []\n",
    "phone_numbers = []\n",
    "num = 4"
   ]
  },
  {
   "cell_type": "code",
   "execution_count": 2,
   "metadata": {},
   "outputs": [
    {
     "name": "stdout",
     "output_type": "stream",
     "text": [
      "Name:David\n",
      "Phone_Number:0656778888\n",
      "\n",
      "Name\t\t\tPhone Number\n",
      "\n",
      "Name:Jane\n",
      "Phone_Number:0774637788\n",
      "\n",
      "Name\t\t\tPhone Number\n",
      "\n",
      "Name:Maggo\n",
      "Phone_Number:08038909\n",
      "\n",
      "Name\t\t\tPhone Number\n",
      "\n",
      "Name:Kira\n",
      "Phone_Number:08977777\n",
      "\n",
      "Name\t\t\tPhone Number\n",
      "\n"
     ]
    }
   ],
   "source": [
    "for i in range(num):\n",
    "    name=input('Name:')\n",
    "    phone=input('Phone_Number:')\n",
    "    names.append(name)\n",
    "    phone_numbers.append(phone)\n",
    "    print(\"\\nName\\t\\t\\tPhone Number\\n\")\n",
    "  "
   ]
  },
  {
   "cell_type": "code",
   "execution_count": 3,
   "metadata": {},
   "outputs": [
    {
     "name": "stdout",
     "output_type": "stream",
     "text": [
      "David\t\t\t0656778888\n",
      "Jane\t\t\t0774637788\n",
      "Maggo\t\t\t08038909\n",
      "Kira\t\t\t08977777\n"
     ]
    }
   ],
   "source": [
    "for i in range(num):\n",
    "    print('{}\\t\\t\\t{}'.format(names[i],phone_numbers[i]))\n"
   ]
  },
  {
   "cell_type": "code",
   "execution_count": 4,
   "metadata": {},
   "outputs": [
    {
     "name": "stdout",
     "output_type": "stream",
     "text": [
      "Enter the name: Jane\n"
     ]
    }
   ],
   "source": [
    "search_term=input(\"Enter the name: \")"
   ]
  },
  {
   "cell_type": "code",
   "execution_count": 5,
   "metadata": {},
   "outputs": [
    {
     "name": "stdout",
     "output_type": "stream",
     "text": [
      "search term\n"
     ]
    }
   ],
   "source": [
    "print('search term')"
   ]
  },
  {
   "cell_type": "code",
   "execution_count": 7,
   "metadata": {},
   "outputs": [
    {
     "name": "stdout",
     "output_type": "stream",
     "text": [
      "Name:Jane,Phone number:0774637788\n"
     ]
    }
   ],
   "source": [
    " if search_term in  names:\n",
    "        index=names.index(search_term)\n",
    "        phone_number=phone_numbers[index]\n",
    "        print('Name:{},Phone number:{}'.format (search_term,phone_number))\n",
    "else :\n",
    "            print('The name not found:')"
   ]
  },
  {
   "cell_type": "code",
   "execution_count": 19,
   "metadata": {},
   "outputs": [
    {
     "name": "stdout",
     "output_type": "stream",
     "text": [
      "Enter the name :Kira\n"
     ]
    }
   ],
   "source": [
    "search=input(\"Enter the name :\")"
   ]
  },
  {
   "cell_type": "code",
   "execution_count": 20,
   "metadata": {},
   "outputs": [
    {
     "name": "stdout",
     "output_type": "stream",
     "text": [
      "search \n"
     ]
    }
   ],
   "source": [
    "print('search ')"
   ]
  },
  {
   "cell_type": "code",
   "execution_count": 21,
   "metadata": {},
   "outputs": [
    {
     "name": "stdout",
     "output_type": "stream",
     "text": [
      "Name:Kira,Phone number:08977777\n"
     ]
    }
   ],
   "source": [
    "if search in names:\n",
    "    index=names.index(search)\n",
    "    phone_number=phone_numbers[index]\n",
    "    print(\"Name:{},Phone number:{}\".format(search,phone_number))\n",
    "else:\n",
    "    print('The name not found')"
   ]
  },
  {
   "cell_type": "code",
   "execution_count": 22,
   "metadata": {},
   "outputs": [
    {
     "name": "stdout",
     "output_type": "stream",
     "text": [
      "Please enter the name:Jane\n"
     ]
    }
   ],
   "source": [
    "wood=input(\"Please enter the name:\")"
   ]
  },
  {
   "cell_type": "code",
   "execution_count": 23,
   "metadata": {},
   "outputs": [
    {
     "name": "stdout",
     "output_type": "stream",
     "text": [
      "wood\n"
     ]
    }
   ],
   "source": [
    "print('wood')"
   ]
  },
  {
   "cell_type": "code",
   "execution_count": 24,
   "metadata": {},
   "outputs": [
    {
     "name": "stdout",
     "output_type": "stream",
     "text": [
      "Name:Jane,Phone number:0774637788\n"
     ]
    }
   ],
   "source": [
    "if wood in names:\n",
    "    index=names.index(wood)\n",
    "    phone_number=phone_numbers[index]\n",
    "    print(\"Name:{},Phone number:{}\".format(wood,phone_number))\n",
    "else:\n",
    "    print('The name not found ')"
   ]
  },
  {
   "cell_type": "code",
   "execution_count": 25,
   "metadata": {},
   "outputs": [
    {
     "name": "stdout",
     "output_type": "stream",
     "text": [
      "Please Enter the number:08977777\n"
     ]
    }
   ],
   "source": [
    "number=input(\"Please Enter the number:\")"
   ]
  },
  {
   "cell_type": "code",
   "execution_count": 26,
   "metadata": {},
   "outputs": [
    {
     "name": "stdout",
     "output_type": "stream",
     "text": [
      "Number\n"
     ]
    }
   ],
   "source": [
    "print('Number')"
   ]
  },
  {
   "cell_type": "code",
   "execution_count": 28,
   "metadata": {},
   "outputs": [
    {
     "name": "stdout",
     "output_type": "stream",
     "text": [
      "Number:08977777,Name:Kira\n"
     ]
    }
   ],
   "source": [
    "if number in phone_numbers:\n",
    "    index=phone_numbers.index(number)\n",
    "    name=names[index]\n",
    "    print('Number:{},Name:{}'.format(number,name))\n",
    "    \n",
    "else:\n",
    "    print('the numeber not found nthe phone book')"
   ]
  },
  {
   "cell_type": "code",
   "execution_count": 29,
   "metadata": {},
   "outputs": [
    {
     "name": "stdout",
     "output_type": "stream",
     "text": [
      "PLease enter the number :08038909\n"
     ]
    }
   ],
   "source": [
    "kenya=input('PLease enter the number :')"
   ]
  },
  {
   "cell_type": "code",
   "execution_count": 30,
   "metadata": {},
   "outputs": [
    {
     "name": "stdout",
     "output_type": "stream",
     "text": [
      "kenya\n"
     ]
    }
   ],
   "source": [
    "print('kenya')"
   ]
  },
  {
   "cell_type": "code",
   "execution_count": 31,
   "metadata": {},
   "outputs": [
    {
     "name": "stdout",
     "output_type": "stream",
     "text": [
      "Number:08038909,Name:Maggo\n"
     ]
    }
   ],
   "source": [
    "if kenya in phone_numbers:\n",
    "    index=phone_numbers.index(kenya)\n",
    "    name=names[index]\n",
    "    print('Number:{},Name:{}'.format(kenya,name))\n",
    "    \n",
    "else:\n",
    "    print('The number is not ligit')"
   ]
  },
  {
   "cell_type": "code",
   "execution_count": null,
   "metadata": {},
   "outputs": [],
   "source": []
  }
 ],
 "metadata": {
  "kernelspec": {
   "display_name": "Python 3",
   "language": "python",
   "name": "python3"
  },
  "language_info": {
   "codemirror_mode": {
    "name": "ipython",
    "version": 3
   },
   "file_extension": ".py",
   "mimetype": "text/x-python",
   "name": "python",
   "nbconvert_exporter": "python",
   "pygments_lexer": "ipython3",
   "version": "3.7.4"
  }
 },
 "nbformat": 4,
 "nbformat_minor": 2
}
