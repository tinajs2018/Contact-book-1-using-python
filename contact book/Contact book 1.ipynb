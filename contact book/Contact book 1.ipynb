{
 "cells": [
  {
   "cell_type": "markdown",
   "metadata": {},
   "source": [
    "A contact book is a database used to store entries related to a\n",
    "\n",
    "person’s contacts like a phone number, email address, etc"
   ]
  },
  {
   "cell_type": "markdown",
   "metadata": {},
   "source": [
    "we are going to add contacts to\n",
    "\n",
    "the book and find them using the person’s name."
   ]
  },
  {
   "cell_type": "code",
   "execution_count": 1,
   "metadata": {},
   "outputs": [],
   "source": [
    "names=[]\n",
    "phone_numbers=[]\n",
    "num=3"
   ]
  },
  {
   "cell_type": "code",
   "execution_count": 2,
   "metadata": {},
   "outputs": [
    {
     "name": "stdout",
     "output_type": "stream",
     "text": [
      "Name:karimi 0745428116\n",
      "Phone number:745438116\n",
      "\n",
      " Name\t\t phone number \n",
      "\n",
      "Name:anita\n",
      "Phone number:0734356787\n",
      "\n",
      " Name\t\t phone number \n",
      "\n",
      "Name:purity 07454803000\n",
      "Phone number:25498766788\n",
      "\n",
      " Name\t\t phone number \n",
      "\n"
     ]
    }
   ],
   "source": [
    "for i in range(num):\n",
    "    name=input('Name:')\n",
    "    phone_number=input('Phone number:')\n",
    "    names.append(name)\n",
    "    phone_numbers.append(phone_number)\n",
    "    print('\\n Name\\t\\t phone number \\n')"
   ]
  },
  {
   "cell_type": "code",
   "execution_count": 7,
   "metadata": {},
   "outputs": [
    {
     "name": "stdout",
     "output_type": "stream",
     "text": [
      "karimi 0745428116\t\t\t745438116\n",
      "anita\t\t\t0734356787\n",
      "purity 07454803000\t\t\t25498766788\n"
     ]
    }
   ],
   "source": [
    "for i in range(num):\n",
    "    print('{}\\t\\t\\t{}'.format(names[i],phone_numbers[i]))"
   ]
  },
  {
   "cell_type": "code",
   "execution_count": 8,
   "metadata": {},
   "outputs": [
    {
     "name": "stdout",
     "output_type": "stream",
     "text": [
      "Enter the  search term:anita\n"
     ]
    }
   ],
   "source": [
    "search_term=input(\"Enter the  search term:\")"
   ]
  },
  {
   "cell_type": "code",
   "execution_count": 9,
   "metadata": {},
   "outputs": [
    {
     "name": "stdout",
     "output_type": "stream",
     "text": [
      "search_term\n"
     ]
    }
   ],
   "source": [
    "print(\"search_term\")"
   ]
  },
  {
   "cell_type": "code",
   "execution_count": 12,
   "metadata": {},
   "outputs": [
    {
     "name": "stdout",
     "output_type": "stream",
     "text": [
      "Names:anita,phone numbers:0734356787\n"
     ]
    }
   ],
   "source": [
    "if search_term in names:\n",
    "    index=names.index(search_term)\n",
    "    phone_number=phone_numbers[index]\n",
    "    print('Names:{},phone numbers:{}'.format(search_term,phone_number))\n",
    "else:\n",
    "        print('Name not found')\n",
    "    "
   ]
  },
  {
   "cell_type": "code",
   "execution_count": null,
   "metadata": {},
   "outputs": [],
   "source": []
  }
 ],
 "metadata": {
  "kernelspec": {
   "display_name": "Python 3",
   "language": "python",
   "name": "python3"
  },
  "language_info": {
   "codemirror_mode": {
    "name": "ipython",
    "version": 3
   },
   "file_extension": ".py",
   "mimetype": "text/x-python",
   "name": "python",
   "nbconvert_exporter": "python",
   "pygments_lexer": "ipython3",
   "version": "3.7.4"
  }
 },
 "nbformat": 4,
 "nbformat_minor": 2
}
